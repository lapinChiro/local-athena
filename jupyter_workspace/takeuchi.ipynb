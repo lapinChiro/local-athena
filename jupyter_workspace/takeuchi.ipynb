{
 "cells": [
  {
   "cell_type": "code",
   "execution_count": null,
   "id": "c415adb1-6a8a-4dcb-9d3a-3bc173e9b076",
   "metadata": {},
   "outputs": [],
   "source": []
  },
  {
   "cell_type": "code",
   "execution_count": 9,
   "id": "39eda375-3851-461e-ad26-97df47659416",
   "metadata": {},
   "outputs": [
    {
     "data": {
      "application/vnd.jupyter.widget-view+json": {
       "model_id": "",
       "version_major": 2,
       "version_minor": 0
      },
      "text/plain": [
       "FloatProgress(value=0.0, bar_style='info', description='Progress:', layout=Layout(height='25px', width='50%'),…"
      ]
     },
     "metadata": {},
     "output_type": "display_data"
    },
    {
     "name": "stderr",
     "output_type": "stream",
     "text": [
      "An error was encountered:\n",
      "An error occurred while calling z:com.amazonaws.services.glue.util.Job.commit.\n",
      ": java.lang.RuntimeException: Not initialized\n",
      "\tat com.amazonaws.services.glue.util.JobBookmark$.preCheck(JobBookmarkUtils.scala:22)\n",
      "\tat com.amazonaws.services.glue.util.JobBookmark$.commit(JobBookmarkUtils.scala:87)\n",
      "\tat com.amazonaws.services.glue.util.Job$.commit(Job.scala:122)\n",
      "\tat com.amazonaws.services.glue.util.Job.commit(Job.scala)\n",
      "\tat sun.reflect.NativeMethodAccessorImpl.invoke0(Native Method)\n",
      "\tat sun.reflect.NativeMethodAccessorImpl.invoke(NativeMethodAccessorImpl.java:62)\n",
      "\tat sun.reflect.DelegatingMethodAccessorImpl.invoke(DelegatingMethodAccessorImpl.java:43)\n",
      "\tat java.lang.reflect.Method.invoke(Method.java:498)\n",
      "\tat py4j.reflection.MethodInvoker.invoke(MethodInvoker.java:244)\n",
      "\tat py4j.reflection.ReflectionEngine.invoke(ReflectionEngine.java:357)\n",
      "\tat py4j.Gateway.invoke(Gateway.java:282)\n",
      "\tat py4j.commands.AbstractCommand.invokeMethod(AbstractCommand.java:132)\n",
      "\tat py4j.commands.CallCommand.execute(CallCommand.java:79)\n",
      "\tat py4j.GatewayConnection.run(GatewayConnection.java:238)\n",
      "\tat java.lang.Thread.run(Thread.java:750)\n",
      "\n",
      "Traceback (most recent call last):\n",
      "  File \"/home/glue_user/aws-glue-libs/PyGlue.zip/awsglue/job.py\", line 48, in commit\n",
      "    self._job.commit()\n",
      "  File \"/home/glue_user/spark/python/lib/py4j-0.10.9-src.zip/py4j/java_gateway.py\", line 1305, in __call__\n",
      "    answer, self.gateway_client, self.target_id, self.name)\n",
      "  File \"/home/glue_user/spark/python/pyspark/sql/utils.py\", line 111, in deco\n",
      "    return f(*a, **kw)\n",
      "  File \"/home/glue_user/spark/python/lib/py4j-0.10.9-src.zip/py4j/protocol.py\", line 328, in get_return_value\n",
      "    format(target_id, \".\", name), value)\n",
      "py4j.protocol.Py4JJavaError: An error occurred while calling z:com.amazonaws.services.glue.util.Job.commit.\n",
      ": java.lang.RuntimeException: Not initialized\n",
      "\tat com.amazonaws.services.glue.util.JobBookmark$.preCheck(JobBookmarkUtils.scala:22)\n",
      "\tat com.amazonaws.services.glue.util.JobBookmark$.commit(JobBookmarkUtils.scala:87)\n",
      "\tat com.amazonaws.services.glue.util.Job$.commit(Job.scala:122)\n",
      "\tat com.amazonaws.services.glue.util.Job.commit(Job.scala)\n",
      "\tat sun.reflect.NativeMethodAccessorImpl.invoke0(Native Method)\n",
      "\tat sun.reflect.NativeMethodAccessorImpl.invoke(NativeMethodAccessorImpl.java:62)\n",
      "\tat sun.reflect.DelegatingMethodAccessorImpl.invoke(DelegatingMethodAccessorImpl.java:43)\n",
      "\tat java.lang.reflect.Method.invoke(Method.java:498)\n",
      "\tat py4j.reflection.MethodInvoker.invoke(MethodInvoker.java:244)\n",
      "\tat py4j.reflection.ReflectionEngine.invoke(ReflectionEngine.java:357)\n",
      "\tat py4j.Gateway.invoke(Gateway.java:282)\n",
      "\tat py4j.commands.AbstractCommand.invokeMethod(AbstractCommand.java:132)\n",
      "\tat py4j.commands.CallCommand.execute(CallCommand.java:79)\n",
      "\tat py4j.GatewayConnection.run(GatewayConnection.java:238)\n",
      "\tat java.lang.Thread.run(Thread.java:750)\n",
      "\n",
      "\n"
     ]
    }
   ],
   "source": [
    "import sys\n",
    "from pyspark.context import SparkContext\n",
    "from awsglue.context import GlueContext\n",
    "from awsglue.transforms import *\n",
    "from awsglue.utils import getResolvedOptions\n",
    "from pyspark.sql.functions import explode, col, get_json_object, from_json\n",
    "from pyspark.sql.types import StructType, StructField, StringType, ArrayType\n",
    "from awsglue.dynamicframe import DynamicFrame\n",
    "from awsglue.job import Job\n",
    "\n",
    "# パラメータの取得\n",
    "# args = getResolvedOptions(sys.argv, ['JOB_NAME', 'INPUT_PATH', 'OUTPUT_PATH'])\n",
    "\n",
    "# args = getResolvedOptions(sys.argv, ['JOB_NAME'])\n",
    "args = {}\n",
    "args['JOB_NAME'] = 'sample'\n",
    "args['INPUT_PATH'] = 's3://bucket001/sample/input/'\n",
    "args['OUTPUT_PATH'] = 's3://bucket001/sample/output/'\n",
    "\n",
    "\n",
    "\n",
    "sc = SparkContext.getOrCreate()\n",
    "glueContext = GlueContext(sc)\n",
    "spark = glueContext.spark_session\n",
    "job = Job(glueContext)\n",
    "job.init(args['JOB_NAME'], args)\n",
    "\n",
    "# 入力データの読み込み\n",
    "input_path = args['INPUT_PATH']\n",
    "output_path = args['OUTPUT_PATH']\n",
    "\n",
    "data = spark.read.format(\"csv\").option(\"header\", \"true\").option(\"delimiter\",\"\\t\").option(\"escape\",\"\\\"\").load(input_path)\n",
    "df = data\n",
    "\n",
    "# JSONスキーマを定義する\n",
    "item_schema = StructType([\n",
    "    StructField(\"type_kbn\", StringType(), True),\n",
    "    StructField(\"uuid\", StringType(), True),\n",
    "    StructField(\"answer\", StructType([\n",
    "        StructField(\"uuid\", StringType(), False),\n",
    "        StructField(\"value\", StringType(), False),\n",
    "        StructField(\"uuids\", ArrayType(StringType()), False)\n",
    "    ]), True)\n",
    "])\n",
    "\n",
    "json_schema = StructType([\n",
    "    StructField(\"items\", ArrayType(item_schema), True),\n",
    "    StructField(\"survey_uuid\", StringType(), False)\n",
    "])\n",
    "\n",
    "\n",
    "\n",
    "df = df.withColumn(\"item_json_decoded\", from_json(col(\"item_json\"),json_schema)).drop(\"item_json\")\n",
    "df = df.withColumn(\"survey_uuid\", col(\"item_json_decoded.survey_uuid\"))\n",
    "df = df.withColumn(\"item\", col(\"item_json_decoded.items\"))\n",
    "df = df.withColumn(\"item\", explode(col(\"item_json_decoded.items\")))\n",
    "df = df.withColumn(\"item_uuid\", col(\"item.uuid\"))\n",
    "df = df.withColumn(\"type_kbn\", col(\"item.type_kbn\"))\n",
    "\n",
    "# 出力パスの取得\n",
    "\n",
    "df.filter(col(\"type_kbn\") == '00101')\\\n",
    "    .withColumn(\"option_uuids\", col(\"item.answer.uuids\")) \\\n",
    "    .select(\"uuid\", \"user_id_code\", 'entried_at', 'survey_uuid', 'item_uuid', 'type_kbn', 'option_uuids') \\\n",
    "    .write.mode('overwrite').partitionBy('type_kbn', 'item_uuid', 'survey_uuid').parquet(f\"{output_path}/large/00101\")\n",
    "    \n",
    "df.filter(col(\"type_kbn\") == '00102')\\\n",
    "    .withColumn(\"value\", col(\"item.answer.value\")) \\\n",
    "    .select(\"uuid\", \"user_id_code\", 'entried_at', 'survey_uuid', 'item_uuid', 'type_kbn', 'value') \\\n",
    "    .write.mode('overwrite').partitionBy('type_kbn', 'item_uuid', 'survey_uuid').parquet(f\"{output_path}/large/00102\")\n",
    "    \n",
    "df.filter(col(\"type_kbn\") == '00104')\\\n",
    "    .withColumn(\"value\", col(\"item.answer.value\")) \\\n",
    "    .select(\"uuid\", \"user_id_code\", 'entried_at', 'survey_uuid', 'item_uuid', 'type_kbn', 'value') \\\n",
    "    .write.mode('overwrite').partitionBy('type_kbn', 'item_uuid', 'survey_uuid').parquet(f\"{output_path}/large/00104\")\n",
    "\n",
    "df.filter(col(\"type_kbn\") == '00105')\\\n",
    "    .withColumn(\"option_uuid\", col(\"item.answer.uuid\")) \\\n",
    "    .select(\"uuid\", \"user_id_code\", 'entried_at', 'survey_uuid', 'item_uuid', 'type_kbn', 'option_uuid') \\\n",
    "    .write.mode('overwrite').partitionBy('type_kbn', 'item_uuid', 'survey_uuid').parquet(f\"{output_path}/large/00105\")\n",
    "    \n",
    "\n",
    "\n",
    "job.commit()"
   ]
  },
  {
   "cell_type": "code",
   "execution_count": 13,
   "id": "18679989-3bf1-4183-aca4-a6b660f378ae",
   "metadata": {},
   "outputs": [
    {
     "data": {
      "application/vnd.jupyter.widget-view+json": {
       "model_id": "",
       "version_major": 2,
       "version_minor": 0
      },
      "text/plain": [
       "FloatProgress(value=0.0, bar_style='info', description='Progress:', layout=Layout(height='25px', width='50%'),…"
      ]
     },
     "metadata": {},
     "output_type": "display_data"
    },
    {
     "name": "stderr",
     "output_type": "stream",
     "text": [
      "An error was encountered:\n",
      "\n",
      "missing {'DBPROPERTIES', 'PROPERTIES'} at '('(line 2, pos 31)\n",
      "\n",
      "== SQL ==\n",
      "\n",
      "create schema minio.bucket with(location = 's3a://bucket001/');\n",
      "-------------------------------^^^\n",
      " \n",
      "\n",
      "Traceback (most recent call last):\n",
      "  File \"/home/glue_user/spark/python/pyspark/sql/session.py\", line 723, in sql\n",
      "    return DataFrame(self._jsparkSession.sql(sqlQuery), self._wrapped)\n",
      "  File \"/home/glue_user/spark/python/lib/py4j-0.10.9-src.zip/py4j/java_gateway.py\", line 1305, in __call__\n",
      "    answer, self.gateway_client, self.target_id, self.name)\n",
      "  File \"/home/glue_user/spark/python/pyspark/sql/utils.py\", line 117, in deco\n",
      "    raise converted from None\n",
      "pyspark.sql.utils.ParseException: \n",
      "missing {'DBPROPERTIES', 'PROPERTIES'} at '('(line 2, pos 31)\n",
      "\n",
      "== SQL ==\n",
      "\n",
      "create schema minio.bucket with(location = 's3a://bucket001/');\n",
      "-------------------------------^^^\n",
      " \n",
      "\n",
      "\n"
     ]
    }
   ],
   "source": [
    "%%sql\n",
    "\n",
    "create schema minio.bucket with(location = 's3a://bucket001/');"
   ]
  },
  {
   "cell_type": "code",
   "execution_count": 22,
   "id": "536b658d-d59e-43db-84a1-f5a3781ba325",
   "metadata": {},
   "outputs": [
    {
     "data": {
      "application/vnd.jupyter.widget-view+json": {
       "model_id": "",
       "version_major": 2,
       "version_minor": 0
      },
      "text/plain": [
       "FloatProgress(value=0.0, bar_style='info', description='Progress:', layout=Layout(height='25px', width='50%'),…"
      ]
     },
     "metadata": {},
     "output_type": "display_data"
    },
    {
     "data": {
      "application/vnd.jupyter.widget-view+json": {
       "model_id": "2acb12de43ba492593262c2d939beb76",
       "version_major": 2,
       "version_minor": 0
      },
      "text/plain": [
       "VBox(children=(HBox(), EncodingWidget(children=(VBox(children=(HTML(value='Encoding:'), Dropdown(description='…"
      ]
     },
     "metadata": {},
     "output_type": "display_data"
    },
    {
     "data": {
      "application/vnd.jupyter.widget-view+json": {
       "model_id": "bec5fb54aead488e900aeafc38ff8ece",
       "version_major": 2,
       "version_minor": 0
      },
      "text/plain": [
       "Output()"
      ]
     },
     "metadata": {},
     "output_type": "display_data"
    }
   ],
   "source": [
    "%%sql\n",
    "\n",
    "\n",
    "CREATE EXTERNAL TABLE IF NOT EXISTS tmp_1_00101 (\n",
    "  `participant_id` string,\n",
    "  `option_uuid_array` array < string >,\n",
    "  `entried_at` timestamp,\n",
    "  `answer_uuid` char(36)\n",
    ")\n",
    "PARTITIONED BY (\n",
    "  `item_uuid` char(36),\n",
    "  `survey_uuid` char(36)\n",
    ")\n",
    "ROW FORMAT SERDE 'org.apache.hadoop.hive.ql.io.parquet.serde.ParquetHiveSerDe'\n",
    "STORED AS INPUTFORMAT 'org.apache.hadoop.hive.ql.io.parquet.MapredParquetInputFormat' OUTPUTFORMAT 'org.apache.hadoop.hive.ql.io.parquet.MapredParquetOutputFormat'\n",
    "LOCATION 's3://bucket001/sample/output/large/00101/type_kbn=00101/'\n",
    "TBLPROPERTIES ('classification' = 'parquet');"
   ]
  },
  {
   "cell_type": "code",
   "execution_count": 14,
   "id": "1a5ceddd-520a-4287-98c9-67ceb52cfaab",
   "metadata": {},
   "outputs": [
    {
     "data": {
      "application/vnd.jupyter.widget-view+json": {
       "model_id": "",
       "version_major": 2,
       "version_minor": 0
      },
      "text/plain": [
       "FloatProgress(value=0.0, bar_style='info', description='Progress:', layout=Layout(height='25px', width='50%'),…"
      ]
     },
     "metadata": {},
     "output_type": "display_data"
    },
    {
     "name": "stderr",
     "output_type": "stream",
     "text": [
      "An error was encountered:\n",
      "\n",
      "mismatched input 'EXTERNAL_LOCATION' expecting {<EOF>, ';'}(line 15, pos 0)\n",
      "\n",
      "== SQL ==\n",
      "\n",
      "\n",
      "CREATE EXTERNAL TABLE IF NOT EXISTS tmp_00101_2 (\n",
      "  `participant_id` string,\n",
      "  `option_uuid_array` array < string >,\n",
      "  `entried_at` timestamp,\n",
      "  `answer_uuid` char(36)\n",
      ")\n",
      "PARTITIONED BY (\n",
      "  `item_uuid` char(36),\n",
      "  `survey_uuid` char(36)\n",
      ")\n",
      "ROW FORMAT SERDE 'org.apache.hadoop.hive.ql.io.parquet.serde.ParquetHiveSerDe'\n",
      "STORED AS INPUTFORMAT 'org.apache.hadoop.hive.ql.io.parquet.MapredParquetInputFormat' OUTPUTFORMAT 'org.apache.hadoop.hive.ql.io.parquet.MapredParquetOutputFormat'\n",
      "EXTERNAL_LOCATION 's3a://bucket001/sample/output/large/00101/type_kbn=00101/item_uuid=552703b5-a22f-47fe-9f2d-51b1f40cbe26/'\n",
      "^^^\n",
      "TBLPROPERTIES ('classification' = 'parquet');\n",
      " \n",
      "\n",
      "Traceback (most recent call last):\n",
      "  File \"/home/glue_user/spark/python/pyspark/sql/session.py\", line 723, in sql\n",
      "    return DataFrame(self._jsparkSession.sql(sqlQuery), self._wrapped)\n",
      "  File \"/home/glue_user/spark/python/lib/py4j-0.10.9-src.zip/py4j/java_gateway.py\", line 1305, in __call__\n",
      "    answer, self.gateway_client, self.target_id, self.name)\n",
      "  File \"/home/glue_user/spark/python/pyspark/sql/utils.py\", line 117, in deco\n",
      "    raise converted from None\n",
      "pyspark.sql.utils.ParseException: \n",
      "mismatched input 'EXTERNAL_LOCATION' expecting {<EOF>, ';'}(line 15, pos 0)\n",
      "\n",
      "== SQL ==\n",
      "\n",
      "\n",
      "CREATE EXTERNAL TABLE IF NOT EXISTS tmp_00101_2 (\n",
      "  `participant_id` string,\n",
      "  `option_uuid_array` array < string >,\n",
      "  `entried_at` timestamp,\n",
      "  `answer_uuid` char(36)\n",
      ")\n",
      "PARTITIONED BY (\n",
      "  `item_uuid` char(36),\n",
      "  `survey_uuid` char(36)\n",
      ")\n",
      "ROW FORMAT SERDE 'org.apache.hadoop.hive.ql.io.parquet.serde.ParquetHiveSerDe'\n",
      "STORED AS INPUTFORMAT 'org.apache.hadoop.hive.ql.io.parquet.MapredParquetInputFormat' OUTPUTFORMAT 'org.apache.hadoop.hive.ql.io.parquet.MapredParquetOutputFormat'\n",
      "EXTERNAL_LOCATION 's3a://bucket001/sample/output/large/00101/type_kbn=00101/item_uuid=552703b5-a22f-47fe-9f2d-51b1f40cbe26/'\n",
      "^^^\n",
      "TBLPROPERTIES ('classification' = 'parquet');\n",
      " \n",
      "\n",
      "\n"
     ]
    }
   ],
   "source": [
    "%%sql\n",
    "\n",
    "\n",
    "CREATE EXTERNAL TABLE IF NOT EXISTS tmp_00101_1 (\n",
    "  `participant_id` string,\n",
    "  `option_uuid_array` array < string >,\n",
    "  `entried_at` timestamp,\n",
    "  `answer_uuid` char(36)\n",
    ")\n",
    "PARTITIONED BY (\n",
    "  `item_uuid` char(36),\n",
    "  `survey_uuid` char(36)\n",
    ")\n",
    "ROW FORMAT SERDE 'org.apache.hadoop.hive.ql.io.parquet.serde.ParquetHiveSerDe'\n",
    "STORED AS INPUTFORMAT 'org.apache.hadoop.hive.ql.io.parquet.MapredParquetInputFormat' OUTPUTFORMAT 'org.apache.hadoop.hive.ql.io.parquet.MapredParquetOutputFormat'\n",
    "EXTERNAL_LOCATION 's3a://bucket001/sample/output/large/00101/type_kbn=00101/item_uuid=552703b5-a22f-47fe-9f2d-51b1f40cbe26/'\n",
    "TBLPROPERTIES ('classification' = 'parquet');"
   ]
  },
  {
   "cell_type": "code",
   "execution_count": 19,
   "id": "a0a129b7-6169-4150-b1f2-b97b3e354be6",
   "metadata": {},
   "outputs": [
    {
     "data": {
      "application/vnd.jupyter.widget-view+json": {
       "model_id": "",
       "version_major": 2,
       "version_minor": 0
      },
      "text/plain": [
       "FloatProgress(value=0.0, bar_style='info', description='Progress:', layout=Layout(height='25px', width='50%'),…"
      ]
     },
     "metadata": {},
     "output_type": "display_data"
    },
    {
     "name": "stderr",
     "output_type": "stream",
     "text": [
      "An error was encountered:\n",
      "\n",
      "extraneous input '(' expecting {'ADD', 'AFTER', 'ALL', 'ALTER', 'ANALYZE', 'AND', 'ANTI', 'ANY', 'ARCHIVE', 'ARRAY', 'AS', 'ASC', 'AT', 'AUTHORIZATION', 'BETWEEN', 'BOTH', 'BUCKET', 'BUCKETS', 'BY', 'CACHE', 'CASCADE', 'CASE', 'CAST', 'CHANGE', 'CHECK', 'CLEAR', 'CLUSTER', 'CLUSTERED', 'CODEGEN', 'COLLATE', 'COLLECTION', 'COLUMN', 'COLUMNS', 'COMMENT', 'COMMIT', 'COMPACT', 'COMPACTIONS', 'COMPUTE', 'CONCATENATE', 'CONSTRAINT', 'COST', 'CREATE', 'CROSS', 'CUBE', 'CURRENT', 'CURRENT_DATE', 'CURRENT_TIME', 'CURRENT_TIMESTAMP', 'CURRENT_USER', 'DATA', 'DATABASE', DATABASES, 'DBPROPERTIES', 'DEFINED', 'DELETE', 'DELIMITED', 'DESC', 'DESCRIBE', 'DFS', 'DIRECTORIES', 'DIRECTORY', 'DISTINCT', 'DISTRIBUTE', 'DIV', 'DROP', 'ELSE', 'END', 'ESCAPE', 'ESCAPED', 'EXCEPT', 'EXCHANGE', 'EXISTS', 'EXPLAIN', 'EXPORT', 'EXTENDED', 'EXTERNAL', 'EXTRACT', 'FALSE', 'FETCH', 'FIELDS', 'FILTER', 'FILEFORMAT', 'FIRST', 'FOLLOWING', 'FOR', 'FOREIGN', 'FORMAT', 'FORMATTED', 'FROM', 'FULL', 'FUNCTION', 'FUNCTIONS', 'GLOBAL', 'GRANT', 'GROUP', 'GROUPING', 'HAVING', 'IF', 'IGNORE', 'IMPORT', 'IN', 'INDEX', 'INDEXES', 'INNER', 'INPATH', 'INPUTFORMAT', 'INSERT', 'INTERSECT', 'INTERVAL', 'INTO', 'IS', 'ITEMS', 'JOIN', 'KEYS', 'LAST', 'LATERAL', 'LAZY', 'LEADING', 'LEFT', 'LIKE', 'LIMIT', 'LINES', 'LIST', 'LOAD', 'LOCAL', 'LOCATION', 'LOCK', 'LOCKS', 'LOGICAL', 'MACRO', 'MAP', 'MATCHED', 'MERGE', 'MSCK', 'NAMESPACE', 'NAMESPACES', 'NATURAL', 'NO', NOT, 'NULL', 'NULLS', 'OF', 'ON', 'ONLY', 'OPTION', 'OPTIONS', 'OR', 'ORDER', 'OUT', 'OUTER', 'OUTPUTFORMAT', 'OVER', 'OVERLAPS', 'OVERLAY', 'OVERWRITE', 'PARTITION', 'PARTITIONED', 'PARTITIONS', 'PERCENT', 'PIVOT', 'PLACING', 'POSITION', 'PRECEDING', 'PRIMARY', 'PRINCIPALS', 'PROPERTIES', 'PURGE', 'QUERY', 'RANGE', 'RECORDREADER', 'RECORDWRITER', 'RECOVER', 'REDUCE', 'REFERENCES', 'REFRESH', 'RENAME', 'REPAIR', 'REPLACE', 'RESET', 'RESTRICT', 'REVOKE', 'RIGHT', RLIKE, 'ROLE', 'ROLES', 'ROLLBACK', 'ROLLUP', 'ROW', 'ROWS', 'SCHEMA', 'SELECT', 'SEMI', 'SEPARATED', 'SERDE', 'SERDEPROPERTIES', 'SESSION_USER', 'SET', 'MINUS', 'SETS', 'SHOW', 'SKEWED', 'SOME', 'SORT', 'SORTED', 'START', 'STATISTICS', 'STORED', 'STRATIFY', 'STRUCT', 'SUBSTR', 'SUBSTRING', 'TABLE', 'TABLES', 'TABLESAMPLE', 'TBLPROPERTIES', TEMPORARY, 'TERMINATED', 'THEN', 'TIME', 'TO', 'TOUCH', 'TRAILING', 'TRANSACTION', 'TRANSACTIONS', 'TRANSFORM', 'TRIM', 'TRUE', 'TRUNCATE', 'TYPE', 'UNARCHIVE', 'UNBOUNDED', 'UNCACHE', 'UNION', 'UNIQUE', 'UNKNOWN', 'UNLOCK', 'UNSET', 'UPDATE', 'USE', 'USER', 'USING', 'VALUES', 'VIEW', 'VIEWS', 'WHEN', 'WHERE', 'WINDOW', 'WITH', 'ZONE', IDENTIFIER, BACKQUOTED_IDENTIFIER}(line 9, pos 5)\n",
      "\n",
      "== SQL ==\n",
      "\n",
      "\n",
      "CREATE TABLE IF NOT EXISTS s3.default.tmp_00101_2 (\n",
      "  `participant_id` string,\n",
      "  `option_uuid_array` array < string >,\n",
      "  `entried_at` timestamp,\n",
      "  `answer_uuid` char(36)\n",
      ")\n",
      "WITH (\n",
      "-----^^^\n",
      "  format = 'parquet',\n",
      "  external_location = 's3a://bucket001/sample/output/large/00101/type_kbn=00101/item_uuid=552703b5-a22f-47fe-9f2d-51b1f40cbe26/'\n",
      ");\n",
      " \n",
      "\n",
      "Traceback (most recent call last):\n",
      "  File \"/home/glue_user/spark/python/pyspark/sql/session.py\", line 723, in sql\n",
      "    return DataFrame(self._jsparkSession.sql(sqlQuery), self._wrapped)\n",
      "  File \"/home/glue_user/spark/python/lib/py4j-0.10.9-src.zip/py4j/java_gateway.py\", line 1305, in __call__\n",
      "    answer, self.gateway_client, self.target_id, self.name)\n",
      "  File \"/home/glue_user/spark/python/pyspark/sql/utils.py\", line 117, in deco\n",
      "    raise converted from None\n",
      "pyspark.sql.utils.ParseException: \n",
      "extraneous input '(' expecting {'ADD', 'AFTER', 'ALL', 'ALTER', 'ANALYZE', 'AND', 'ANTI', 'ANY', 'ARCHIVE', 'ARRAY', 'AS', 'ASC', 'AT', 'AUTHORIZATION', 'BETWEEN', 'BOTH', 'BUCKET', 'BUCKETS', 'BY', 'CACHE', 'CASCADE', 'CASE', 'CAST', 'CHANGE', 'CHECK', 'CLEAR', 'CLUSTER', 'CLUSTERED', 'CODEGEN', 'COLLATE', 'COLLECTION', 'COLUMN', 'COLUMNS', 'COMMENT', 'COMMIT', 'COMPACT', 'COMPACTIONS', 'COMPUTE', 'CONCATENATE', 'CONSTRAINT', 'COST', 'CREATE', 'CROSS', 'CUBE', 'CURRENT', 'CURRENT_DATE', 'CURRENT_TIME', 'CURRENT_TIMESTAMP', 'CURRENT_USER', 'DATA', 'DATABASE', DATABASES, 'DBPROPERTIES', 'DEFINED', 'DELETE', 'DELIMITED', 'DESC', 'DESCRIBE', 'DFS', 'DIRECTORIES', 'DIRECTORY', 'DISTINCT', 'DISTRIBUTE', 'DIV', 'DROP', 'ELSE', 'END', 'ESCAPE', 'ESCAPED', 'EXCEPT', 'EXCHANGE', 'EXISTS', 'EXPLAIN', 'EXPORT', 'EXTENDED', 'EXTERNAL', 'EXTRACT', 'FALSE', 'FETCH', 'FIELDS', 'FILTER', 'FILEFORMAT', 'FIRST', 'FOLLOWING', 'FOR', 'FOREIGN', 'FORMAT', 'FORMATTED', 'FROM', 'FULL', 'FUNCTION', 'FUNCTIONS', 'GLOBAL', 'GRANT', 'GROUP', 'GROUPING', 'HAVING', 'IF', 'IGNORE', 'IMPORT', 'IN', 'INDEX', 'INDEXES', 'INNER', 'INPATH', 'INPUTFORMAT', 'INSERT', 'INTERSECT', 'INTERVAL', 'INTO', 'IS', 'ITEMS', 'JOIN', 'KEYS', 'LAST', 'LATERAL', 'LAZY', 'LEADING', 'LEFT', 'LIKE', 'LIMIT', 'LINES', 'LIST', 'LOAD', 'LOCAL', 'LOCATION', 'LOCK', 'LOCKS', 'LOGICAL', 'MACRO', 'MAP', 'MATCHED', 'MERGE', 'MSCK', 'NAMESPACE', 'NAMESPACES', 'NATURAL', 'NO', NOT, 'NULL', 'NULLS', 'OF', 'ON', 'ONLY', 'OPTION', 'OPTIONS', 'OR', 'ORDER', 'OUT', 'OUTER', 'OUTPUTFORMAT', 'OVER', 'OVERLAPS', 'OVERLAY', 'OVERWRITE', 'PARTITION', 'PARTITIONED', 'PARTITIONS', 'PERCENT', 'PIVOT', 'PLACING', 'POSITION', 'PRECEDING', 'PRIMARY', 'PRINCIPALS', 'PROPERTIES', 'PURGE', 'QUERY', 'RANGE', 'RECORDREADER', 'RECORDWRITER', 'RECOVER', 'REDUCE', 'REFERENCES', 'REFRESH', 'RENAME', 'REPAIR', 'REPLACE', 'RESET', 'RESTRICT', 'REVOKE', 'RIGHT', RLIKE, 'ROLE', 'ROLES', 'ROLLBACK', 'ROLLUP', 'ROW', 'ROWS', 'SCHEMA', 'SELECT', 'SEMI', 'SEPARATED', 'SERDE', 'SERDEPROPERTIES', 'SESSION_USER', 'SET', 'MINUS', 'SETS', 'SHOW', 'SKEWED', 'SOME', 'SORT', 'SORTED', 'START', 'STATISTICS', 'STORED', 'STRATIFY', 'STRUCT', 'SUBSTR', 'SUBSTRING', 'TABLE', 'TABLES', 'TABLESAMPLE', 'TBLPROPERTIES', TEMPORARY, 'TERMINATED', 'THEN', 'TIME', 'TO', 'TOUCH', 'TRAILING', 'TRANSACTION', 'TRANSACTIONS', 'TRANSFORM', 'TRIM', 'TRUE', 'TRUNCATE', 'TYPE', 'UNARCHIVE', 'UNBOUNDED', 'UNCACHE', 'UNION', 'UNIQUE', 'UNKNOWN', 'UNLOCK', 'UNSET', 'UPDATE', 'USE', 'USER', 'USING', 'VALUES', 'VIEW', 'VIEWS', 'WHEN', 'WHERE', 'WINDOW', 'WITH', 'ZONE', IDENTIFIER, BACKQUOTED_IDENTIFIER}(line 9, pos 5)\n",
      "\n",
      "== SQL ==\n",
      "\n",
      "\n",
      "CREATE TABLE IF NOT EXISTS s3.default.tmp_00101_2 (\n",
      "  `participant_id` string,\n",
      "  `option_uuid_array` array < string >,\n",
      "  `entried_at` timestamp,\n",
      "  `answer_uuid` char(36)\n",
      ")\n",
      "WITH (\n",
      "-----^^^\n",
      "  format = 'parquet',\n",
      "  external_location = 's3a://bucket001/sample/output/large/00101/type_kbn=00101/item_uuid=552703b5-a22f-47fe-9f2d-51b1f40cbe26/'\n",
      ");\n",
      " \n",
      "\n",
      "\n"
     ]
    }
   ],
   "source": [
    "%%sql\n",
    "\n",
    "\n",
    "CREATE TABLE IF NOT EXISTS s3.default.tmp_00101_2 (\n",
    "  `participant_id` string,\n",
    "  `option_uuid_array` array < string >,\n",
    "  `entried_at` timestamp,\n",
    "  `answer_uuid` char(36)\n",
    ")\n",
    "WITH (\n",
    "  format = 'parquet',\n",
    "  external_location = 's3a://bucket001/sample/output/large/00101/type_kbn=00101/item_uuid=552703b5-a22f-47fe-9f2d-51b1f40cbe26/'\n",
    ");"
   ]
  },
  {
   "cell_type": "code",
   "execution_count": null,
   "id": "29293bd6-07e6-43b7-bfe2-258ac244b16d",
   "metadata": {},
   "outputs": [],
   "source": []
  }
 ],
 "metadata": {
  "kernelspec": {
   "display_name": "PySpark",
   "language": "python",
   "name": "pysparkkernel"
  },
  "language_info": {
   "codemirror_mode": {
    "name": "python",
    "version": 3
   },
   "file_extension": ".py",
   "mimetype": "text/x-python",
   "name": "pyspark",
   "pygments_lexer": "python3"
  }
 },
 "nbformat": 4,
 "nbformat_minor": 5
}
