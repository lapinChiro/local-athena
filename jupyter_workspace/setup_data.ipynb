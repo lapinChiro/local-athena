{
 "cells": [
  {
   "cell_type": "code",
   "execution_count": 2,
   "id": "39eda375-3851-461e-ad26-97df47659416",
   "metadata": {},
   "outputs": [
    {
     "data": {
      "application/vnd.jupyter.widget-view+json": {
       "model_id": "",
       "version_major": 2,
       "version_minor": 0
      },
      "text/plain": [
       "FloatProgress(value=0.0, bar_style='info', description='Progress:', layout=Layout(height='25px', width='50%'),…"
      ]
     },
     "metadata": {},
     "output_type": "display_data"
    }
   ],
   "source": [
    "import sys\n",
    "from pyspark.context import SparkContext\n",
    "from awsglue.context import GlueContext\n",
    "from awsglue.transforms import *\n",
    "from awsglue.utils import getResolvedOptions\n",
    "from pyspark.sql.functions import explode, col, get_json_object, from_json\n",
    "from pyspark.sql.types import StructType, StructField, StringType, ArrayType\n",
    "from awsglue.dynamicframe import DynamicFrame\n",
    "from awsglue.job import Job\n",
    "\n",
    "# パラメータの取得\n",
    "# args = getResolvedOptions(sys.argv, ['JOB_NAME', 'INPUT_PATH', 'OUTPUT_PATH'])\n",
    "\n",
    "# args = getResolvedOptions(sys.argv, ['JOB_NAME'])\n",
    "args = {}\n",
    "args['JOB_NAME'] = 'sample'\n",
    "args['INPUT_PATH'] = 's3://asahi-data/input/'\n",
    "args['OUTPUT_PATH'] = 's3://asahi-data/output/'\n",
    "\n",
    "\n",
    "\n",
    "sc = SparkContext.getOrCreate()\n",
    "glueContext = GlueContext(sc)\n",
    "spark = glueContext.spark_session\n",
    "job = Job(glueContext)\n",
    "job.init(args['JOB_NAME'], args)\n",
    "\n",
    "# 入力データの読み込み\n",
    "input_path = args['INPUT_PATH']\n",
    "output_path = args['OUTPUT_PATH']\n",
    "\n",
    "data = spark.read.format(\"csv\").option(\"header\", \"true\").option(\"delimiter\",\"\\t\").option(\"escape\",\"\\\"\").load(input_path)\n",
    "df = data\n",
    "\n",
    "# JSONスキーマを定義する\n",
    "item_schema = StructType([\n",
    "    StructField(\"type_kbn\", StringType(), True),\n",
    "    StructField(\"uuid\", StringType(), True),\n",
    "    StructField(\"answer\", StructType([\n",
    "        StructField(\"uuid\", StringType(), False),\n",
    "        StructField(\"value\", StringType(), False),\n",
    "        StructField(\"uuids\", ArrayType(StringType()), False)\n",
    "    ]), True)\n",
    "])\n",
    "\n",
    "json_schema = StructType([\n",
    "    StructField(\"items\", ArrayType(item_schema), True),\n",
    "    StructField(\"survey_uuid\", StringType(), False)\n",
    "])\n",
    "\n",
    "\n",
    "\n",
    "df = df.withColumn(\"item_json_decoded\", from_json(col(\"item_json\"),json_schema)).drop(\"item_json\")\n",
    "df = df.withColumn(\"survey_uuid\", col(\"item_json_decoded.survey_uuid\"))\n",
    "df = df.withColumn(\"item\", col(\"item_json_decoded.items\"))\n",
    "df = df.withColumn(\"item\", explode(col(\"item_json_decoded.items\")))\n",
    "df = df.withColumn(\"item_uuid\", col(\"item.uuid\"))\n",
    "df = df.withColumn(\"type_kbn\", col(\"item.type_kbn\"))\n",
    "df = df.drop(\"item_json_decoded\")\n",
    "\n",
    "\n",
    "\n",
    "df.filter(col(\"type_kbn\") == '00101')\\\n",
    "    .withColumn(\"option_uuids\", col(\"item.answer.uuids\")) \\\n",
    "    .select(\"uuid\", \"user_id_code\", 'entried_at', 'survey_uuid', 'item_uuid', 'type_kbn', 'option_uuids') \\\n",
    "    .write.mode('overwrite').partitionBy('type_kbn', 'item_uuid', 'survey_uuid').parquet(f\"{output_path}/large/00101\")\n",
    "    \n",
    "df.filter(col(\"type_kbn\") == '00102')\\\n",
    "    .withColumn(\"value\", col(\"item.answer.value\")) \\\n",
    "    .select(\"uuid\", \"user_id_code\", 'entried_at', 'survey_uuid', 'item_uuid', 'type_kbn', 'value') \\\n",
    "    .write.mode('overwrite').partitionBy('type_kbn', 'item_uuid', 'survey_uuid').parquet(f\"{output_path}/large/00102\")\n",
    "    \n",
    "df.filter(col(\"type_kbn\") == '00104')\\\n",
    "    .withColumn(\"value\", col(\"item.answer.value\")) \\\n",
    "    .select(\"uuid\", \"user_id_code\", 'entried_at', 'survey_uuid', 'item_uuid', 'type_kbn', 'value') \\\n",
    "    .write.mode('overwrite').partitionBy('type_kbn', 'item_uuid', 'survey_uuid').parquet(f\"{output_path}/large/00104\")\n",
    "\n",
    "df.filter(col(\"type_kbn\") == '00105')\\\n",
    "    .withColumn(\"option_uuid\", col(\"item.answer.uuid\")) \\\n",
    "    .select(\"uuid\", \"user_id_code\", 'entried_at', 'survey_uuid', 'item_uuid', 'type_kbn', 'option_uuid') \\\n",
    "    .write.mode('overwrite').partitionBy('type_kbn', 'item_uuid', 'survey_uuid').parquet(f\"{output_path}/large/00105\")\n",
    "\n",
    "\n"
   ]
  }
 ],
 "metadata": {
  "kernelspec": {
   "display_name": "PySpark",
   "language": "python",
   "name": "pysparkkernel"
  },
  "language_info": {
   "codemirror_mode": {
    "name": "python",
    "version": 3
   },
   "file_extension": ".py",
   "mimetype": "text/x-python",
   "name": "pyspark",
   "pygments_lexer": "python3"
  }
 },
 "nbformat": 4,
 "nbformat_minor": 5
}
